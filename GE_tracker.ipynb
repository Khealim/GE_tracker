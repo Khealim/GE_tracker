{
 "cells": [
  {
   "cell_type": "code",
   "execution_count": 45,
   "metadata": {},
   "outputs": [
    {
     "name": "stdout",
     "output_type": "stream",
     "text": [
      "Requirement already satisfied: requests in c:\\users\\fuck\\anaconda3\\lib\\site-packages (2.24.0)\n",
      "Requirement already satisfied: idna<3,>=2.5 in c:\\users\\fuck\\anaconda3\\lib\\site-packages (from requests) (2.10)\n",
      "Requirement already satisfied: urllib3!=1.25.0,!=1.25.1,<1.26,>=1.21.1 in c:\\users\\fuck\\anaconda3\\lib\\site-packages (from requests) (1.25.11)\n",
      "Requirement already satisfied: chardet<4,>=3.0.2 in c:\\users\\fuck\\anaconda3\\lib\\site-packages (from requests) (3.0.4)\n",
      "Requirement already satisfied: certifi>=2017.4.17 in c:\\users\\fuck\\anaconda3\\lib\\site-packages (from requests) (2020.6.20)\n",
      "Note: you may need to restart the kernel to use updated packages.\n"
     ]
    }
   ],
   "source": [
    "#pip install requests"
   ]
  },
  {
   "cell_type": "code",
   "execution_count": 6,
   "metadata": {},
   "outputs": [],
   "source": [
    "import requests\n",
    "import json\n",
    "import json\n",
    "import pandas as pd\n",
    "import matplotlib.pyplot as plt\n",
    "import datetime\n",
    "from IPython.display import clear_output\n",
    "from matplotlib.pyplot import figure\n",
    "import ipywidgets as widgets\n",
    "%matplotlib inline\n",
    "pd.options.mode.chained_assignment = None  # default='warn'"
   ]
  },
  {
   "cell_type": "code",
   "execution_count": 37,
   "metadata": {},
   "outputs": [],
   "source": [
    "def graph_refresh():\n",
    "    with open('data_file.json') as json_file:\n",
    "        prices = json.load(json_file)\n",
    "\n",
    "    ge_prices = pd.DataFrame.from_dict(prices['data'])\n",
    "    ge_prices = ge_prices.transpose()\n",
    "    ge_prices.reset_index(level=0, inplace=True)\n",
    "    ge_prices = ge_prices.rename(columns={\"index\": \"id\"})\n",
    "\n",
    "    with open('mapping_file.json') as json_file:\n",
    "        mappings = json.load(json_file)\n",
    "\n",
    "    id_mappings = pd.DataFrame.from_dict(mappings)\n",
    "\n",
    "    ge_prices['id']=ge_prices['id'].astype(int)\n",
    "    id_mappings['id']=id_mappings['id'].astype(int)\n",
    "\n",
    "    ge_sot = pd.merge(ge_prices, id_mappings, how=\"left\", on='id')\n",
    "    \n",
    "    ge_sot_highalch_profit = ge_sot[ge_sot[\"highalch\"]-ge_sot[\"high\"]>0]\n",
    "    ge_sot_highalch_profit = ge_sot_highalch_profit[ge_sot_highalch_profit[\"high\"]> ge_sot_highalch_profit[\"low\"]]\n",
    "    ge_sot_highalch_profit[\"profit\"] = ge_sot_highalch_profit[\"highalch\"]-ge_sot_highalch_profit[\"high\"]\n",
    "    ge_sot_highalch_profit = ge_sot_highalch_profit.sort_values(by=['profit'], ascending=False)\n",
    "    \n",
    "    \n",
    "    highalch_top_5 = ge_sot_highalch_profit[:5]\n",
    "    \n",
    "    clear_output(wait=True)\n",
    "    \n",
    "    x = datetime.datetime.now()\n",
    "    prices = highalch_top_5[\"name\"],highalch_top_5[\"high\"]\n",
    "    \n",
    "    plt.rcParams['figure.figsize'] = [10, 5]\n",
    "    plt.bar(range(len(highalch_top_5[\"profit\"])), highalch_top_5[\"profit\"], align='center')\n",
    "    plt.xticks(range(len(highalch_top_5[\"name\"])), highalch_top_5[\"name\"], size='small')\n",
    "    \n",
    "    for i, v in enumerate(highalch_top_5[\"high\"]):\n",
    "        plt.text(i-0.2, highalch_top_5[\"profit\"].iloc[i] +15, str(v))\n",
    "    \n",
    "    plt.xlabel('Item name')\n",
    "    plt.ylabel('Profit')\n",
    "    plt.title(str(x))\n",
    "    plt.autoscale()\n",
    "    plt.show()\n",
    "    \n",
    "    return highalch_top_5"
   ]
  },
  {
   "cell_type": "code",
   "execution_count": 45,
   "metadata": {},
   "outputs": [],
   "source": [
    "from time import time, sleep\n",
    "def runjob():\n",
    "\n",
    "    prices = r'https://prices.runescape.wiki/api/v1/osrs/latest'\n",
    "\n",
    "    mappings = r'https://prices.runescape.wiki/api/v1/osrs/mapping'\n",
    "\n",
    "    headers = {\n",
    "        'User-Agent': 'Khealim user agent',\n",
    "        'From': 'tamaskatona94@gmail.com'  \n",
    "    }\n",
    "    \n",
    "    response = requests.get(prices, headers=headers)\n",
    "    data = response.json()\n",
    "    with open(\"data_file.json\", \"w\") as write_file:\n",
    "        json.dump(data, write_file)\n",
    "    #response = requests.get(mappings, headers=headers)\n",
    "    #data = response.json()\n",
    "    #with open(\"mapping_file.json\", \"w\") as write_file:\n",
    "    #    json.dump(data, write_file)\n",
    "        \n",
    "    prices = graph_refresh()"
   ]
  },
  {
   "cell_type": "code",
   "execution_count": 43,
   "metadata": {
    "scrolled": true
   },
   "outputs": [],
   "source": [
    "def on_button_clicked(b):\n",
    "    with out:\n",
    "        clear_output()\n",
    "        runjob()"
   ]
  },
  {
   "cell_type": "code",
   "execution_count": 46,
   "metadata": {},
   "outputs": [
    {
     "data": {
      "application/vnd.jupyter.widget-view+json": {
       "model_id": "b1f98da6c9da4aefa4e1631e80ebcf88",
       "version_major": 2,
       "version_minor": 0
      },
      "text/plain": [
       "Button(button_style='info', description='Refresh', icon='check', style=ButtonStyle(), tooltip='Click me')"
      ]
     },
     "metadata": {},
     "output_type": "display_data"
    },
    {
     "data": {
      "application/vnd.jupyter.widget-view+json": {
       "model_id": "180e99965f944320872121e13f036c29",
       "version_major": 2,
       "version_minor": 0
      },
      "text/plain": [
       "Output()"
      ]
     },
     "metadata": {},
     "output_type": "display_data"
    }
   ],
   "source": [
    "from IPython.display import display, clear_output\n",
    "import ipywidgets as widgets\n",
    "import random\n",
    "\n",
    "b = widgets.Button(\n",
    "    description='Refresh',\n",
    "    disabled=False,\n",
    "    button_style='info',\n",
    "    tooltip='Click me',\n",
    "    icon='check'\n",
    ")\n",
    "display(b)\n",
    "\n",
    "out = widgets.Output()\n",
    "display(out)\n",
    "\n",
    "b.on_click(on_button_clicked)"
   ]
  }
 ],
 "metadata": {
  "kernelspec": {
   "display_name": "Python 3",
   "language": "python",
   "name": "python3"
  },
  "language_info": {
   "codemirror_mode": {
    "name": "ipython",
    "version": 3
   },
   "file_extension": ".py",
   "mimetype": "text/x-python",
   "name": "python",
   "nbconvert_exporter": "python",
   "pygments_lexer": "ipython3",
   "version": "3.8.5"
  }
 },
 "nbformat": 4,
 "nbformat_minor": 4
}
